{
 "cells": [
  {
   "cell_type": "code",
   "execution_count": 37,
   "metadata": {},
   "outputs": [
    {
     "data": {
      "image/png": "[encoded data removed]",
      "text/plain": [
       "<matplotlib.figure.Figure at 0x11ced4208>"
      ]
     },
     "metadata": {},
     "output_type": "display_data"
    },
    {
     "name": "stdout",
     "output_type": "stream",
     "text": [
      "x, y= [1 1] 0\n",
      "x, y= [2 3] 1\n",
      "x, y= [2 7] 0\n",
      "x, y= [3 4] 1\n",
      "w [ 0.8588871   0.23403837]\n",
      "X.shape (4, 2)\n",
      "weights.shape (2,)\n",
      "y_hat [ 101.09292547  102.41988932  103.35604279  103.51281479]\n",
      "y_hat [ 101.09292547  102.41988932  103.35604279  103.51281479]\n",
      "[1 4 9]\n",
      "2.30258509299\n"
     ]
    }
   ],
   "source": [
    "import matplotlib.pyplot as plt\n",
    "import numpy as np\n",
    "import pandas as pd\n",
    "\n",
    "def plot_points(X, y):\n",
    "    admitted = X[np.argwhere(y==1)]\n",
    "    rejected = X[np.argwhere(y==0)]\n",
    "    plt.scatter([s[0][0] for s in rejected], [s[0][1] for s in rejected], s = 25, color = 'blue', edgecolor = 'k')\n",
    "    plt.scatter([s[0][0] for s in admitted], [s[0][1] for s in admitted], s = 25, color = 'red', edgecolor = 'k')\n",
    "    \n",
    "def display(m, b, color='g--'):\n",
    "    plt.xlim(-0.05,1.05)\n",
    "    plt.ylim(-0.05,1.05)\n",
    "    x = np.arange(-10, 10, 0.1)\n",
    "    plt.plot(x, m*x+b, color)\n",
    "\n",
    "data = pd.read_csv('data.csv', header=None)\n",
    "X = np.array(data[[0,1]])\n",
    "y = np.array(data[2])\n",
    "plot_points(X,y)\n",
    "plt.show()\n",
    "\n",
    "for x, y in zip(X, y):\n",
    "    print(\"x, y=\", x, y)\n",
    "    \n",
    "n_records, n_features = X.shape\n",
    "weights = np.random.normal(scale=1 / n_features**.5, size=n_features)\n",
    "print(\"w\", weights)\n",
    "bias = 100\n",
    "print(\"X.shape\", X.shape)\n",
    "print(\"weights.shape\", weights.shape)\n",
    "y_hat = np.matmul(weights, X.T) + bias\n",
    "print(\"y_hat\", y_hat)\n",
    "y_hat = np.matmul(X, weights) + bias\n",
    "print(\"y_hat\", y_hat)\n",
    "a = np.array([1, 2, 3])\n",
    "b = np.array([1, 2, 3])\n",
    "print(a*b)\n",
    "print(np.log(10))\n",
    "\n",
    "    "
   ]
  },
  {
   "cell_type": "code",
   "execution_count": null,
   "metadata": {
    "collapsed": true
   },
   "outputs": [],
   "source": []
  }
 ],
 "metadata": {
  "kernelspec": {
   "display_name": "Python 3",
   "language": "python",
   "name": "python3"
  },
  "language_info": {
   "codemirror_mode": {
    "name": "ipython",
    "version": 3
   },
   "file_extension": ".py",
   "mimetype": "text/x-python",
   "name": "python",
   "nbconvert_exporter": "python",
   "pygments_lexer": "ipython3",
   "version": "3.6.3"
  }
 },
 "nbformat": 4,
 "nbformat_minor": 2
}
